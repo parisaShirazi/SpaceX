{
 "cells": [
  {
   "cell_type": "code",
   "execution_count": 19,
   "metadata": {},
   "outputs": [
    {
     "data": {
      "text/plain": [
       "<bound method DataFrame.info of     FlightNumber       Date BoosterVersion   PayloadMass Orbit    LaunchSite  \\\n",
       "0              1 2010-06-04       Falcon 9   6104.959412   LEO  CCAFS SLC 40   \n",
       "1              2 2012-05-22       Falcon 9    525.000000   LEO  CCAFS SLC 40   \n",
       "2              3 2013-03-01       Falcon 9    677.000000   ISS  CCAFS SLC 40   \n",
       "3              4 2013-09-29       Falcon 9           NaN    PO   VAFB SLC 4E   \n",
       "4              5 2013-12-03       Falcon 9   3170.000000   GTO           NaN   \n",
       "..           ...        ...            ...           ...   ...           ...   \n",
       "85            86 2020-09-03       Falcon 9  15400.000000  VLEO    KSC LC 39A   \n",
       "86            87 2020-10-06       Falcon 9  15400.000000  VLEO    KSC LC 39A   \n",
       "87            88 2020-10-18       Falcon 9  15400.000000  VLEO    KSC LC 39A   \n",
       "88            89 2020-10-24       Falcon 9  15400.000000  VLEO  CCAFS SLC 40   \n",
       "89            90 2020-11-05       Falcon 9   3681.000000   MEO  CCAFS SLC 40   \n",
       "\n",
       "        Outcome  Flights  GridFins  Reused   Legs                LandingPad  \\\n",
       "0     None None        1     False   False  False                       NaN   \n",
       "1     None None        1     False   False  False                       NaN   \n",
       "2     None None        1     False   False  False                       NaN   \n",
       "3   False Ocean        1     False   False  False                       NaN   \n",
       "4     None None        1     False   False  False                       NaN   \n",
       "..          ...      ...       ...     ...    ...                       ...   \n",
       "85    True ASDS        2      True    True   True  5e9e3032383ecb6bb234e7ca   \n",
       "86    True ASDS        3      True    True   True  5e9e3032383ecb6bb234e7ca   \n",
       "87    True ASDS        6      True    True   True  5e9e3032383ecb6bb234e7ca   \n",
       "88    True ASDS        3      True    True   True  5e9e3033383ecbb9e534e7cc   \n",
       "89    True ASDS        1      True   False   True  5e9e3032383ecb6bb234e7ca   \n",
       "\n",
       "    Block  ReusedCount Serial   Longitude   Latitude  Class  \n",
       "0       1            0  B0003  -80.577366  28.561857      0  \n",
       "1       1            0  B0005  -80.577366  28.561857      0  \n",
       "2       1            0  B0007  -80.577366  28.561857      0  \n",
       "3       1            0  B1003 -120.610829  34.632093      0  \n",
       "4       1            0  B1004  -80.577366  28.561857      0  \n",
       "..    ...          ...    ...         ...        ...    ...  \n",
       "85      5            2  B1060  -80.603956  28.608058      1  \n",
       "86      5            2  B1058  -80.603956  28.608058      1  \n",
       "87      5            5  B1051  -80.603956  28.608058      1  \n",
       "88      5            2  B1060  -80.577366  28.561857      1  \n",
       "89      5            0  B1062  -80.577366  28.561857      1  \n",
       "\n",
       "[90 rows x 18 columns]>"
      ]
     },
     "execution_count": 19,
     "metadata": {},
     "output_type": "execute_result"
    }
   ],
   "source": [
    "import pandas as pd\n",
    "import numpy as np\n",
    "\n",
    "#read excel file\n",
    "df_missing=pd.read_excel('F:\\sapceX\\missing_dataset_falcon9.xlsx')\n",
    "\n",
    "df_missing.info\n",
    "\n",
    "\n",
    "\n",
    "\n"
   ]
  },
  {
   "cell_type": "code",
   "execution_count": 20,
   "metadata": {},
   "outputs": [
    {
     "data": {
      "text/plain": [
       "<bound method DataFrame.info of     FlightNumber       Date BoosterVersion   PayloadMass Orbit    LaunchSite  \\\n",
       "0              1 2010-06-04       Falcon 9   6104.959412   LEO  CCAFS SLC 40   \n",
       "1              2 2012-05-22       Falcon 9    525.000000   LEO  CCAFS SLC 40   \n",
       "2              3 2013-03-01       Falcon 9    677.000000   ISS  CCAFS SLC 40   \n",
       "3              4 2013-09-29       Falcon 9   6379.736885    PO   VAFB SLC 4E   \n",
       "4              5 2013-12-03       Falcon 9   3170.000000   GTO           NaN   \n",
       "..           ...        ...            ...           ...   ...           ...   \n",
       "85            86 2020-09-03       Falcon 9  15400.000000  VLEO    KSC LC 39A   \n",
       "86            87 2020-10-06       Falcon 9  15400.000000  VLEO    KSC LC 39A   \n",
       "87            88 2020-10-18       Falcon 9  15400.000000  VLEO    KSC LC 39A   \n",
       "88            89 2020-10-24       Falcon 9  15400.000000  VLEO  CCAFS SLC 40   \n",
       "89            90 2020-11-05       Falcon 9   3681.000000   MEO  CCAFS SLC 40   \n",
       "\n",
       "        Outcome  Flights  GridFins  Reused   Legs                LandingPad  \\\n",
       "0     None None        1     False   False  False                       NaN   \n",
       "1     None None        1     False   False  False                       NaN   \n",
       "2     None None        1     False   False  False                       NaN   \n",
       "3   False Ocean        1     False   False  False                       NaN   \n",
       "4     None None        1     False   False  False                       NaN   \n",
       "..          ...      ...       ...     ...    ...                       ...   \n",
       "85    True ASDS        2      True    True   True  5e9e3032383ecb6bb234e7ca   \n",
       "86    True ASDS        3      True    True   True  5e9e3032383ecb6bb234e7ca   \n",
       "87    True ASDS        6      True    True   True  5e9e3032383ecb6bb234e7ca   \n",
       "88    True ASDS        3      True    True   True  5e9e3033383ecbb9e534e7cc   \n",
       "89    True ASDS        1      True   False   True  5e9e3032383ecb6bb234e7ca   \n",
       "\n",
       "    Block  ReusedCount Serial   Longitude   Latitude  Class  \n",
       "0       1            0  B0003  -80.577366  28.561857      0  \n",
       "1       1            0  B0005  -80.577366  28.561857      0  \n",
       "2       1            0  B0007  -80.577366  28.561857      0  \n",
       "3       1            0  B1003 -120.610829  34.632093      0  \n",
       "4       1            0  B1004  -80.577366  28.561857      0  \n",
       "..    ...          ...    ...         ...        ...    ...  \n",
       "85      5            2  B1060  -80.603956  28.608058      1  \n",
       "86      5            2  B1058  -80.603956  28.608058      1  \n",
       "87      5            5  B1051  -80.603956  28.608058      1  \n",
       "88      5            2  B1060  -80.577366  28.561857      1  \n",
       "89      5            0  B1062  -80.577366  28.561857      1  \n",
       "\n",
       "[90 rows x 18 columns]>"
      ]
     },
     "execution_count": 20,
     "metadata": {},
     "output_type": "execute_result"
    }
   ],
   "source": [
    "#calculate the mean of payloadmass\n",
    "payload_mean=df_missing['PayloadMass'].mean()\n",
    "\n",
    "#filling none values with payloadmass mean in the number values\n",
    "df_missing['PayloadMass']=df_missing['PayloadMass'].replace(np.nan, payload_mean)\n",
    "df_missing.info"
   ]
  },
  {
   "cell_type": "code",
   "execution_count": 22,
   "metadata": {},
   "outputs": [
    {
     "data": {
      "text/plain": [
       "<bound method DataFrame.info of     FlightNumber       Date BoosterVersion   PayloadMass Orbit    LaunchSite  \\\n",
       "0              1 2010-06-04       Falcon 9   6104.959412   LEO  CCAFS SLC 40   \n",
       "1              2 2012-05-22       Falcon 9    525.000000   LEO  CCAFS SLC 40   \n",
       "2              3 2013-03-01       Falcon 9    677.000000   ISS  CCAFS SLC 40   \n",
       "3              4 2013-09-29       Falcon 9   6379.736885    PO   VAFB SLC 4E   \n",
       "4              5 2013-12-03       Falcon 9   3170.000000   GTO  CCAFS SLC 40   \n",
       "..           ...        ...            ...           ...   ...           ...   \n",
       "85            86 2020-09-03       Falcon 9  15400.000000  VLEO    KSC LC 39A   \n",
       "86            87 2020-10-06       Falcon 9  15400.000000  VLEO    KSC LC 39A   \n",
       "87            88 2020-10-18       Falcon 9  15400.000000  VLEO    KSC LC 39A   \n",
       "88            89 2020-10-24       Falcon 9  15400.000000  VLEO  CCAFS SLC 40   \n",
       "89            90 2020-11-05       Falcon 9   3681.000000   MEO  CCAFS SLC 40   \n",
       "\n",
       "        Outcome  Flights  GridFins  Reused   Legs                LandingPad  \\\n",
       "0     None None        1     False   False  False                       NaN   \n",
       "1     None None        1     False   False  False                       NaN   \n",
       "2     None None        1     False   False  False                       NaN   \n",
       "3   False Ocean        1     False   False  False                       NaN   \n",
       "4     None None        1     False   False  False                       NaN   \n",
       "..          ...      ...       ...     ...    ...                       ...   \n",
       "85    True ASDS        2      True    True   True  5e9e3032383ecb6bb234e7ca   \n",
       "86    True ASDS        3      True    True   True  5e9e3032383ecb6bb234e7ca   \n",
       "87    True ASDS        6      True    True   True  5e9e3032383ecb6bb234e7ca   \n",
       "88    True ASDS        3      True    True   True  5e9e3033383ecbb9e534e7cc   \n",
       "89    True ASDS        1      True   False   True  5e9e3032383ecb6bb234e7ca   \n",
       "\n",
       "    Block  ReusedCount Serial   Longitude   Latitude  Class  \n",
       "0       1            0  B0003  -80.577366  28.561857      0  \n",
       "1       1            0  B0005  -80.577366  28.561857      0  \n",
       "2       1            0  B0007  -80.577366  28.561857      0  \n",
       "3       1            0  B1003 -120.610829  34.632093      0  \n",
       "4       1            0  B1004  -80.577366  28.561857      0  \n",
       "..    ...          ...    ...         ...        ...    ...  \n",
       "85      5            2  B1060  -80.603956  28.608058      1  \n",
       "86      5            2  B1058  -80.603956  28.608058      1  \n",
       "87      5            5  B1051  -80.603956  28.608058      1  \n",
       "88      5            2  B1060  -80.577366  28.561857      1  \n",
       "89      5            0  B1062  -80.577366  28.561857      1  \n",
       "\n",
       "[90 rows x 18 columns]>"
      ]
     },
     "execution_count": 22,
     "metadata": {},
     "output_type": "execute_result"
    }
   ],
   "source": [
    "#filling none values with CCAFS ,that is most frequent variable in categorical values\n",
    "df_missing['LaunchSite'].value_counts()\n",
    "df_missing['LaunchSite']=df_missing['LaunchSite'].replace(np.nan, 'CCAFS SLC 40')\n",
    "df_missing.info"
   ]
  },
  {
   "cell_type": "code",
   "execution_count": 23,
   "metadata": {},
   "outputs": [
    {
     "data": {
      "text/plain": [
       "0      True\n",
       "1      True\n",
       "2      True\n",
       "3      True\n",
       "4      True\n",
       "      ...  \n",
       "85    False\n",
       "86    False\n",
       "87    False\n",
       "88    False\n",
       "89    False\n",
       "Name: LandingPad, Length: 90, dtype: bool"
      ]
     },
     "execution_count": 23,
     "metadata": {},
     "output_type": "execute_result"
    }
   ],
   "source": [
    "#filling none values in the categorized variables is not always the most frequent way \n",
    "df_missing['LandingPad'].value_counts()\n",
    "df_landingpad=df_missing[df_missing['LandingPad']=='5e9e3032383ecb6bb234e7ca']\n",
    "set(df_landingpad['Orbit'])\n",
    "df_1=df_missing[['LandingPad','Orbit']]\n",
    "pd.isnull(df_1['LandingPad'])"
   ]
  },
  {
   "cell_type": "code",
   "execution_count": 24,
   "metadata": {},
   "outputs": [
    {
     "data": {
      "text/plain": [
       "<bound method DataFrame.info of      PayloadMass Orbit    LaunchSite      Outcome  Flights  GridFins  Reused  \\\n",
       "0    6104.959412   LEO  CCAFS SLC 40    None None        1     False   False   \n",
       "1     525.000000   LEO  CCAFS SLC 40    None None        1     False   False   \n",
       "2     677.000000   ISS  CCAFS SLC 40    None None        1     False   False   \n",
       "3     500.000000    PO   VAFB SLC 4E  False Ocean        1     False   False   \n",
       "4    3170.000000   GTO  CCAFS SLC 40    None None        1     False   False   \n",
       "..           ...   ...           ...          ...      ...       ...     ...   \n",
       "85  15400.000000  VLEO    KSC LC 39A    True ASDS        2      True    True   \n",
       "86  15400.000000  VLEO    KSC LC 39A    True ASDS        3      True    True   \n",
       "87  15400.000000  VLEO    KSC LC 39A    True ASDS        6      True    True   \n",
       "88  15400.000000  VLEO  CCAFS SLC 40    True ASDS        3      True    True   \n",
       "89   3681.000000   MEO  CCAFS SLC 40    True ASDS        1      True   False   \n",
       "\n",
       "     Legs                LandingPad  Block  ReusedCount Serial  Class  \n",
       "0   False                       NaN    1.0            0  B0003      0  \n",
       "1   False                       NaN    1.0            0  B0005      0  \n",
       "2   False                       NaN    1.0            0  B0007      0  \n",
       "3   False                       NaN    1.0            0  B1003      0  \n",
       "4   False                       NaN    1.0            0  B1004      0  \n",
       "..    ...                       ...    ...          ...    ...    ...  \n",
       "85   True  5e9e3032383ecb6bb234e7ca    5.0            2  B1060      1  \n",
       "86   True  5e9e3032383ecb6bb234e7ca    5.0            2  B1058      1  \n",
       "87   True  5e9e3032383ecb6bb234e7ca    5.0            5  B1051      1  \n",
       "88   True  5e9e3033383ecbb9e534e7cc    5.0            2  B1060      1  \n",
       "89   True  5e9e3032383ecb6bb234e7ca    5.0            0  B1062      1  \n",
       "\n",
       "[90 rows x 13 columns]>"
      ]
     },
     "execution_count": 24,
     "metadata": {},
     "output_type": "execute_result"
    }
   ],
   "source": [
    "#removing columns that need to be cleaned\n",
    "df=pd.read_csv('dataset_falcon9.csv')\n",
    "df=df.drop(['FlightNumber','Date','BoosterVersion','Longitude','Latitude'],axis=1)\n",
    "df.info"
   ]
  },
  {
   "cell_type": "code",
   "execution_count": 25,
   "metadata": {},
   "outputs": [],
   "source": [
    "#assigning numbers to categorical variables\n",
    "df_dummy= pd.get_dummies(df[['Orbit','LaunchSite','Outcome','LandingPad','Serial']])"
   ]
  },
  {
   "cell_type": "code",
   "execution_count": 26,
   "metadata": {},
   "outputs": [],
   "source": [
    "#changing type to integer\n",
    "df['GridFins']=df['GridFins'].astype(int)\n",
    "df['Reused']=df['Reused'].astype(int)\n",
    "df['Legs']=df['Legs'].astype(int)\n"
   ]
  },
  {
   "cell_type": "code",
   "execution_count": 27,
   "metadata": {},
   "outputs": [
    {
     "data": {
      "text/plain": [
       "<bound method DataFrame.info of      PayloadMass  Flights  GridFins  Reused  Legs  Block  ReusedCount  Class  \\\n",
       "0    6104.959412        1         0       0     0    1.0            0      0   \n",
       "1     525.000000        1         0       0     0    1.0            0      0   \n",
       "2     677.000000        1         0       0     0    1.0            0      0   \n",
       "3     500.000000        1         0       0     0    1.0            0      0   \n",
       "4    3170.000000        1         0       0     0    1.0            0      0   \n",
       "..           ...      ...       ...     ...   ...    ...          ...    ...   \n",
       "85  15400.000000        2         1       1     1    5.0            2      1   \n",
       "86  15400.000000        3         1       1     1    5.0            2      1   \n",
       "87  15400.000000        6         1       1     1    5.0            5      1   \n",
       "88  15400.000000        3         1       1     1    5.0            2      1   \n",
       "89   3681.000000        1         1       0     1    5.0            0      1   \n",
       "\n",
       "    Orbit_ES-L1  Orbit_GEO  ...  Serial_B1048  Serial_B1049  Serial_B1050  \\\n",
       "0         False      False  ...         False         False         False   \n",
       "1         False      False  ...         False         False         False   \n",
       "2         False      False  ...         False         False         False   \n",
       "3         False      False  ...         False         False         False   \n",
       "4         False      False  ...         False         False         False   \n",
       "..          ...        ...  ...           ...           ...           ...   \n",
       "85        False      False  ...         False         False         False   \n",
       "86        False      False  ...         False         False         False   \n",
       "87        False      False  ...         False         False         False   \n",
       "88        False      False  ...         False         False         False   \n",
       "89        False      False  ...         False         False         False   \n",
       "\n",
       "    Serial_B1051  Serial_B1054  Serial_B1056  Serial_B1058  Serial_B1059  \\\n",
       "0          False         False         False         False         False   \n",
       "1          False         False         False         False         False   \n",
       "2          False         False         False         False         False   \n",
       "3          False         False         False         False         False   \n",
       "4          False         False         False         False         False   \n",
       "..           ...           ...           ...           ...           ...   \n",
       "85         False         False         False         False         False   \n",
       "86         False         False         False          True         False   \n",
       "87          True         False         False         False         False   \n",
       "88         False         False         False         False         False   \n",
       "89         False         False         False         False         False   \n",
       "\n",
       "    Serial_B1060  Serial_B1062  \n",
       "0          False         False  \n",
       "1          False         False  \n",
       "2          False         False  \n",
       "3          False         False  \n",
       "4          False         False  \n",
       "..           ...           ...  \n",
       "85          True         False  \n",
       "86         False         False  \n",
       "87         False         False  \n",
       "88          True         False  \n",
       "89         False          True  \n",
       "\n",
       "[90 rows x 88 columns]>"
      ]
     },
     "execution_count": 27,
     "metadata": {},
     "output_type": "execute_result"
    }
   ],
   "source": [
    "#deleting categorized values and replacing to new values that they are numbers and finally save this changing\n",
    "df=df.drop(['Orbit','LaunchSite','Outcome','LandingPad','Serial'],axis=1)\n",
    "df = pd.concat([df, df_dummy], axis=1)\n",
    "df.to_csv('preprocessed_dataset.csv')\n",
    "df.to_csv('F:\\sapceX\\preprocessed_dataset.csv')\n",
    "df.info"
   ]
  }
 ],
 "metadata": {
  "kernelspec": {
   "display_name": "Python 3",
   "language": "python",
   "name": "python3"
  },
  "language_info": {
   "codemirror_mode": {
    "name": "ipython",
    "version": 3
   },
   "file_extension": ".py",
   "mimetype": "text/x-python",
   "name": "python",
   "nbconvert_exporter": "python",
   "pygments_lexer": "ipython3",
   "version": "3.11.1"
  }
 },
 "nbformat": 4,
 "nbformat_minor": 2
}
